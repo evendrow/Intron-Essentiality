{
 "cells": [
  {
   "cell_type": "code",
   "execution_count": 1,
   "metadata": {},
   "outputs": [],
   "source": [
    "import numpy as np\n",
    "from tqdm import tqdm\n",
    "import matplotlib.pyplot as plt"
   ]
  },
  {
   "cell_type": "code",
   "execution_count": 2,
   "metadata": {},
   "outputs": [
    {
     "name": "stderr",
     "output_type": "stream",
     "text": [
      "100%|██████████| 21557/21557 [00:00<00:00, 718116.49it/s]\n"
     ]
    }
   ],
   "source": [
    "ESSENTIALITY_FILE = 'essentiality.csv'\n",
    "ESSENTIALITY_DICT = {\n",
    "    \"Nonessential\": 0,\n",
    "    \"Conditional\": 1,\n",
    "    \"Essential\": 2\n",
    "}\n",
    "essentialities = {}\n",
    "\n",
    "num_lines_ess = sum(1 for line in open(ESSENTIALITY_FILE,'r'))\n",
    "with open(ESSENTIALITY_FILE) as f:\n",
    "    # titles\n",
    "    f.readline()\n",
    "    \n",
    "    for i in tqdm(range(num_lines_ess)):\n",
    "        line = f.readline().split(\",\")\n",
    "\n",
    "        # ignore empty lines\n",
    "        if len(line) < 2:\n",
    "            continue\n",
    "\n",
    "        ess = line[1]\n",
    "        # sanity check\n",
    "        if ess in ESSENTIALITY_DICT:\n",
    "            essentialities[line[0]] = ESSENTIALITY_DICT[ess]"
   ]
  },
  {
   "cell_type": "code",
   "execution_count": 3,
   "metadata": {},
   "outputs": [
    {
     "name": "stdout",
     "output_type": "stream",
     "text": [
      "14388\n",
      "6985\n",
      "183\n"
     ]
    }
   ],
   "source": [
    "print(sum([1 if v == ESSENTIALITY_DICT[\"Nonessential\"] else 0 for k, v in essentialities.items()]))\n",
    "print(sum([1 if v == ESSENTIALITY_DICT[\"Conditional\"] else 0 for k, v in essentialities.items()]))\n",
    "print(sum([1 if v == ESSENTIALITY_DICT[\"Essential\"] else 0 for k, v in essentialities.items()]))"
   ]
  },
  {
   "cell_type": "code",
   "execution_count": 4,
   "metadata": {},
   "outputs": [
    {
     "name": "stderr",
     "output_type": "stream",
     "text": [
      "100%|██████████| 248692/248692 [00:02<00:00, 89838.76it/s]"
     ]
    },
    {
     "name": "stdout",
     "output_type": "stream",
     "text": [
      "percent start with GT:  241805 out of  248692  =  0.9723071108037251 %\n",
      "percent end with AG:  244830 out of  248692  =  0.9844707509690702 %\n"
     ]
    },
    {
     "name": "stderr",
     "output_type": "stream",
     "text": [
      "\n"
     ]
    }
   ],
   "source": [
    "num_lines = sum(1 for line in open('introns.csv','r'))\n",
    "\n",
    "with open('introns.csv') as f:\n",
    "    \n",
    "    num_start_gt = 0\n",
    "    num_end_ag = 0\n",
    "    total = 0\n",
    "    \n",
    "    for i in tqdm(range(num_lines)):\n",
    "        code = f.readline().split(',')[4][:-1]\n",
    "        if code[:2] == \"GT\":\n",
    "            num_start_gt += 1\n",
    "        if code[-2:] == \"AG\":\n",
    "            num_end_ag += 1\n",
    "        total += 1\n",
    "\n",
    "print(\"percent start with GT: \", num_start_gt, 'out of ', total, ' = ', num_start_gt/total, '%')\n",
    "print(\"percent end with AG: \", num_end_ag, 'out of ', total, ' = ', num_end_ag/total, '%')"
   ]
  },
  {
   "cell_type": "code",
   "execution_count": 5,
   "metadata": {},
   "outputs": [
    {
     "name": "stderr",
     "output_type": "stream",
     "text": [
      "100%|██████████| 248692/248692 [00:03<00:00, 67577.86it/s]\n"
     ]
    }
   ],
   "source": [
    "keys = {'A':0, 'C':1, 'G':2, 'T':3}\n",
    "probs = np.zeros((4, 4))\n",
    "\n",
    "with open('introns.csv') as f:\n",
    "    for i in tqdm(range(num_lines)):\n",
    "        code = f.readline().split(',')[4][:-1]\n",
    "        code = code[2:6]\n",
    "        \n",
    "        for i, char in enumerate(code):\n",
    "            if char == \"N\": \n",
    "                probs[i] += 0.25 # add equal weight to each base pair\n",
    "            else:\n",
    "                char_key = keys[char]\n",
    "                probs[i][char_key] += 1"
   ]
  },
  {
   "cell_type": "code",
   "execution_count": 6,
   "metadata": {},
   "outputs": [
    {
     "name": "stdout",
     "output_type": "stream",
     "text": [
      "Probabilities of each base pair appearing immediately after GT:\n",
      "  A          C          G          T\n",
      "[[0.58617085 0.03152896 0.34753028 0.03443215]\n",
      " [0.69059419 0.0752668  0.12010137 0.1135712 ]\n",
      " [0.09108154 0.05997077 0.76940251 0.07901038]\n",
      " [0.18356944 0.14681715 0.18900186 0.48002449]]\n"
     ]
    }
   ],
   "source": [
    "print('Probabilities of each base pair appearing immediately after GT:')\n",
    "print('  A          C          G          T')\n",
    "print(probs / num_lines)"
   ]
  },
  {
   "cell_type": "code",
   "execution_count": null,
   "metadata": {},
   "outputs": [],
   "source": []
  },
  {
   "cell_type": "code",
   "execution_count": 10,
   "metadata": {},
   "outputs": [],
   "source": [
    "\n",
    "def GC_densities(essential_filter=None, only_first_intron=False, not_first_intron=False):\n",
    "    # as calculated above\n",
    "        \n",
    "    points_GC = []\n",
    "    points_GT = []\n",
    "    GC_count = 0\n",
    "    GT_count = 0\n",
    "\n",
    "    AG_count = 0\n",
    "\n",
    "    start_with_gt = 0\n",
    "    start_with_gt_count = 0\n",
    "    end_with_ag = 0\n",
    "    end_with_ag_count = 0\n",
    "\n",
    "    num_base_pairs = 0\n",
    "    num_introns_considered = 0\n",
    "    genes_considered = set()\n",
    "\n",
    "    with open('introns.csv') as f:\n",
    "        for _ in tqdm(range(num_lines), position=0, leave=True):\n",
    "            line = f.readline().split(',')\n",
    "            gene = line[0]\n",
    "            intron_num = int(line[3]) # <--- TODO check this is right\n",
    "            code = line[4][:-1]\n",
    "\n",
    "            # First intron filter, if applicable\n",
    "            if only_first_intron and intron_num != 1:\n",
    "                continue\n",
    "                \n",
    "            if not_first_intron and intron_num == 1:\n",
    "                continue\n",
    "                \n",
    "            # Essentiality filter, if applicable\n",
    "            if essential_filter != None:\n",
    "                if gene in essentialities:\n",
    "                    # essentiality is not what we want; skip it\n",
    "                    if essentialities[gene] != ESSENTIALITY_DICT[essential_filter]:\n",
    "                        continue\n",
    "                else:\n",
    "                    # we don't know essentiality; skip it\n",
    "                    continue\n",
    "\n",
    "            # If we passed all filters\n",
    "\n",
    "            genes_considered.add(gene)\n",
    "            num_introns_considered += 1\n",
    "            num_base_pairs = len(code)\n",
    "            \n",
    "            \n",
    "            GC_count = 0\n",
    "            GT_count = 0\n",
    "            #We begin at 6 to ignore the first 5' splice site\n",
    "            for i in range(6,len(code)-1):\n",
    "\n",
    "                if i < len(code) - 1:\n",
    "\n",
    "                    # Look at sequences immediately following GC\n",
    "                    if code[i:i+2] == \"GC\":\n",
    "                        GC_count += 1\n",
    "\n",
    "\n",
    "                    # Look at sequences immediately following GT\n",
    "                    elif code[i:i+2] == \"GT\":\n",
    "                        GT_count += 1\n",
    "\n",
    "                #elif i > len(code) - BRANCH_LOC:\n",
    "                #    if code[i:i+2] == \"AG\":\n",
    "                #        AG_count += 1\n",
    "                        \n",
    "                    \n",
    "            points_GC.append(GC_count/len(code))\n",
    "            #points_GT.append([GT_counts/len(code)])\n",
    "            \n",
    "    if essential_filter != None:\n",
    "        print(\">>> ONLY CONSIDERING '\" + essential_filter + \"' GENES <<<\")\n",
    "    if only_first_intron:\n",
    "        print(\">>> ONLY CONSIDERING FIRST INTRONS <<<\")\n",
    "\n",
    "    return points_GC"
   ]
  },
  {
   "cell_type": "code",
   "execution_count": 11,
   "metadata": {},
   "outputs": [
    {
     "name": "stderr",
     "output_type": "stream",
     "text": [
      "100%|██████████| 248692/248692 [00:04<00:00, 52966.75it/s]\n",
      "  4%|▍         | 10764/248692 [00:00<00:02, 107243.78it/s]"
     ]
    },
    {
     "name": "stdout",
     "output_type": "stream",
     "text": [
      ">>> ONLY CONSIDERING 'Essential' GENES <<<\n"
     ]
    },
    {
     "name": "stderr",
     "output_type": "stream",
     "text": [
      "100%|██████████| 248692/248692 [00:02<00:00, 84381.51it/s]\n",
      "  2%|▏         | 5498/248692 [00:00<00:04, 54809.13it/s]"
     ]
    },
    {
     "name": "stdout",
     "output_type": "stream",
     "text": [
      ">>> ONLY CONSIDERING 'Essential' GENES <<<\n",
      ">>> ONLY CONSIDERING FIRST INTRONS <<<\n"
     ]
    },
    {
     "name": "stderr",
     "output_type": "stream",
     "text": [
      "100%|██████████| 248692/248692 [00:04<00:00, 56455.97it/s]\n",
      "  0%|          | 245/248692 [00:00<01:41, 2445.69it/s]"
     ]
    },
    {
     "name": "stdout",
     "output_type": "stream",
     "text": [
      ">>> ONLY CONSIDERING 'Essential' GENES <<<\n"
     ]
    },
    {
     "name": "stderr",
     "output_type": "stream",
     "text": [
      "100%|██████████| 248692/248692 [02:26<00:00, 1697.09it/s] \n",
      "  0%|          | 720/248692 [00:00<00:37, 6608.83it/s]"
     ]
    },
    {
     "name": "stdout",
     "output_type": "stream",
     "text": [
      ">>> ONLY CONSIDERING 'Conditional' GENES <<<\n"
     ]
    },
    {
     "name": "stderr",
     "output_type": "stream",
     "text": [
      "100%|██████████| 248692/248692 [00:35<00:00, 6954.21it/s] \n",
      "  0%|          | 383/248692 [00:00<01:06, 3748.97it/s]"
     ]
    },
    {
     "name": "stdout",
     "output_type": "stream",
     "text": [
      ">>> ONLY CONSIDERING 'Conditional' GENES <<<\n",
      ">>> ONLY CONSIDERING FIRST INTRONS <<<\n"
     ]
    },
    {
     "name": "stderr",
     "output_type": "stream",
     "text": [
      "100%|██████████| 248692/248692 [01:53<00:00, 2184.71it/s] \n",
      "  0%|          | 204/248692 [00:00<04:55, 841.89it/s]"
     ]
    },
    {
     "name": "stdout",
     "output_type": "stream",
     "text": [
      ">>> ONLY CONSIDERING 'Conditional' GENES <<<\n"
     ]
    },
    {
     "name": "stderr",
     "output_type": "stream",
     "text": [
      "100%|██████████| 248692/248692 [04:41<00:00, 882.55it/s]  \n",
      "  0%|          | 271/248692 [00:00<01:38, 2517.93it/s]"
     ]
    },
    {
     "name": "stdout",
     "output_type": "stream",
     "text": [
      ">>> ONLY CONSIDERING 'Nonessential' GENES <<<\n"
     ]
    },
    {
     "name": "stderr",
     "output_type": "stream",
     "text": [
      "100%|██████████| 248692/248692 [01:15<00:00, 3291.86it/s] \n",
      "  0%|          | 272/248692 [00:00<03:55, 1053.77it/s]"
     ]
    },
    {
     "name": "stdout",
     "output_type": "stream",
     "text": [
      ">>> ONLY CONSIDERING 'Nonessential' GENES <<<\n",
      ">>> ONLY CONSIDERING FIRST INTRONS <<<\n"
     ]
    },
    {
     "name": "stderr",
     "output_type": "stream",
     "text": [
      "100%|██████████| 248692/248692 [03:29<00:00, 1186.45it/s] "
     ]
    },
    {
     "name": "stdout",
     "output_type": "stream",
     "text": [
      ">>> ONLY CONSIDERING 'Nonessential' GENES <<<\n"
     ]
    },
    {
     "name": "stderr",
     "output_type": "stream",
     "text": [
      "\n"
     ]
    }
   ],
   "source": [
    "results = []\n",
    "for e in [\"Essential\", \"Conditional\", \"Nonessential\"]:\n",
    "    all_intron = GC_densities(essential_filter=e)\n",
    "    first = GC_densities(essential_filter=e, only_first_intron=True)\n",
    "    not_first = GC_densities(essential_filter=e, not_first_intron=True)\n",
    "    results.append([all_intron, first, not_first])\n"
   ]
  },
  {
   "cell_type": "code",
   "execution_count": 12,
   "metadata": {},
   "outputs": [],
   "source": [
    "gc_result = results"
   ]
  },
  {
   "cell_type": "code",
   "execution_count": null,
   "metadata": {},
   "outputs": [],
   "source": [
    "fig, axs = plt.subplots(3, 2, constrained_layout=True, figsize=(18,8))\n",
    "for i , e in enumerate([\"Essential\", \"Conditional\", \"Nonessential\"]):\n",
    "    for j in range(2):\n",
    "        axs[i][j].hist(results[i][j], bins=50, rwidth=1, range=[0,0.2])\n",
    "        axs[i][j].set_xlabel('GC Density')\n",
    "        if j == 0:\n",
    "            axs[i][j].set_title(e + ' GC (First Introns Only)')\n",
    "        else:\n",
    "            axs[i][j].set_title(e + ' GC (No First Introns)')\n",
    "\n",
    "        axs[i][j].set_ylabel('Frequency')\n",
    "        \n",
    "        axs[i][j].text(0.75, 0.85, 'n:   ' + str(len(results[i][j])), transform=axs[i][j].transAxes)\n",
    "        axs[i][j].text(0.75, 0.75, 'Mean:   ' + str(round(np.mean(results[i][j]), 5)), transform=axs[i][j].transAxes)\n",
    "        axs[i][j].text(0.75, 0.65, 'Median: ' + str(round(np.median(results[i][j]), 5)), transform=axs[i][j].transAxes)\n",
    "        axs[i][j].text(0.75, 0.55, 'Stddev: ' + str(round(np.std(results[i][j]), 5)), transform=axs[i][j].transAxes)\n",
    "        \n",
    "fig.suptitle('GC Essentiality by Essentiality and Intron Number', fontsize=16)\n",
    "plt.show()"
   ]
  },
  {
   "cell_type": "code",
   "execution_count": 17,
   "metadata": {},
   "outputs": [
    {
     "data": {
      "image/png": "[encoded data removed]",
      "text/plain": [
       "<Figure size 864x360 with 1 Axes>"
      ]
     },
     "metadata": {
      "needs_background": "light"
     },
     "output_type": "display_data"
    }
   ],
   "source": [
    "d = []\n",
    "# for i, ess in enumerate(['Essential', 'Conditional', 'Nonessential']):\n",
    "for i in range(3): #intron\n",
    "    for k in range(3): #essentiality\n",
    "        d.append(gc_result[k][i])\n",
    "\n",
    "fig, ax = plt.subplots(constrained_layout=True, figsize=(12,5))\n",
    "\n",
    "positions=[1, 2, 3, 5, 6, 7, 9, 10, 11]\n",
    "labels = ['Essential', 'Conditional', 'Nonessential',\n",
    "          'Essential', 'Conditional', 'Nonessential',\n",
    "          'Essential', 'Conditional', 'Nonessential']\n",
    "\n",
    "ax.boxplot(d, labels=labels, positions=positions, notch=True, showfliers=False, \n",
    "           showmeans=True, meanline=True, boxprops=dict(linewidth=1), medianprops=dict(linewidth=2),\n",
    "           meanprops=dict(linewidth=2), widths=0.7) \n",
    "# Add n\n",
    "for i in range(9):\n",
    "    ax.text(positions[i], 0.95, 'n='+str(len(d[i])), horizontalalignment='center', transform=ax.get_xaxis_transform())\n",
    "\n",
    "intron_desc = [\"All Introns\", \"First Introns\", \"Later Introns\"]\n",
    "ax.text(positions[1], -0.11, 'All Introns', horizontalalignment='center', transform=ax.get_xaxis_transform(), size='large')\n",
    "ax.text(positions[4], -0.11, 'First Introns', horizontalalignment='center', transform=ax.get_xaxis_transform(), size='large')\n",
    "ax.text(positions[7], -0.11, 'Later Introns', horizontalalignment='center', transform=ax.get_xaxis_transform(), size='large')\n",
    "    \n",
    "# ax.set_xlabel('Gene Essentiality')\n",
    "ax.set_ylabel('GC Density')\n",
    "ax.set_ylim(top=0.115)\n",
    "\n",
    "# ax.grid(True)\n",
    "ax.minorticks_on()\n",
    "ax.tick_params(axis='x', which='minor', bottom=False)\n",
    "\n",
    "# fig.suptitle('Number of Introns per Gene', fontsize=16)\n",
    "plt.savefig('figures/intron_gc_freq.png', dpi=300)\n",
    "plt.show()"
   ]
  },
  {
   "cell_type": "code",
   "execution_count": null,
   "metadata": {},
   "outputs": [],
   "source": []
  },
  {
   "cell_type": "code",
   "execution_count": null,
   "metadata": {},
   "outputs": [],
   "source": []
  },
  {
   "cell_type": "code",
   "execution_count": null,
   "metadata": {},
   "outputs": [],
   "source": []
  },
  {
   "cell_type": "code",
   "execution_count": 40,
   "metadata": {},
   "outputs": [],
   "source": [
    "\n",
    "def GT_AG_sites(essential_filter=None, only_first_intron=False):\n",
    "    # as calculated above\n",
    "    probabilities = [\n",
    "        [0.58617085, 0.03152896, 0.34753028, 0.03443215],\n",
    "        [0.69059419, 0.0752668 , 0.12010137, 0.1135712 ],\n",
    "        [0.09108154, 0.05997077, 0.76940251, 0.07901038],\n",
    "        [0.18356944, 0.14681715, 0.18900186, 0.48002449]]\n",
    "    keys = {'A':0, 'C':1, 'G':2, 'T':3}\n",
    "    BRANCH_LOC = 40\n",
    "\n",
    "    start_with_gt = 0\n",
    "    start_with_gt_count = 0\n",
    "    end_with_ag = 0\n",
    "    end_with_ag_count = 0\n",
    "\n",
    "    num_base_pairs = 0\n",
    "    num_introns_considered = 0\n",
    "    genes_considered = set()\n",
    "\n",
    "    with open('introns.csv') as f:\n",
    "        for _ in tqdm(range(num_lines), position=0, leave=True):\n",
    "            line = f.readline().split(',')\n",
    "            gene = line[0]\n",
    "            intron_num = int(line[3]) # <--- TODO check this is right\n",
    "            code = line[4][:-1]\n",
    "\n",
    "            # First intron filter, if applicable\n",
    "            if only_first_intron and intron_num != 1:\n",
    "                continue\n",
    "                \n",
    "            if (not only_first_intron) and intron_num == 1:\n",
    "                continue\n",
    "                \n",
    "            # Essentiality filter, if applicable\n",
    "            if essential_filter != None:\n",
    "                if gene in essentialities:\n",
    "                    # essentiality is not what we want; skip it\n",
    "                    if essentialities[gene] != ESSENTIALITY_DICT[essential_filter]:\n",
    "                        continue\n",
    "                else:\n",
    "                    # we don't know essentiality; skip it\n",
    "                    continue\n",
    "\n",
    "            # If we passed all filters\n",
    "\n",
    "            genes_considered.add(gene)\n",
    "            num_introns_considered += 1\n",
    "            num_base_pairs += len(code) - BRANCH_LOC - 6\n",
    "            \n",
    "            # Check start for GT\n",
    "            if code[:2] == \"GT\":\n",
    "                start_with_gt += 1\n",
    "            start_with_gt_count += 1\n",
    "\n",
    "            # Check end fot AG\n",
    "            if code[-2:] == \"AG\":\n",
    "                end_with_ag += 1\n",
    "            end_with_ag_count += 1\n",
    "\n",
    "                        \n",
    "    if essential_filter != None:\n",
    "        print(\">>> ONLY CONSIDERING '\" + essential_filter + \"' GENES <<<\")\n",
    "    if only_first_intron:\n",
    "        print(\">>> ONLY CONSIDERING FIRST INTRONS <<<\")\n",
    "\n",
    "    print(\"Looked at\", num_base_pairs, \"base pairs from\", num_introns_considered, \"introns belonging to\", len(genes_considered), \"genes.\")\n",
    "    print()\n",
    "    print(\"[MISC] % Start with GT: \" + str(start_with_gt/start_with_gt_count) + \"%  =  (\" + str(start_with_gt) + \"/\" + str(start_with_gt_count) + \")\")\n",
    "    print(\"[MISC] % Ends with AG:  \" + str(end_with_ag/end_with_ag_count) + \"%  =  (\" + str(end_with_ag) + \"/\" + str(end_with_ag_count) + \")\")\n",
    "                            \n",
    "    return {\n",
    "        \"start_with_gt\": start_with_gt,\n",
    "        \"start_with_gt_count\": start_with_gt_count,\n",
    "        \"end_with_ag\": end_with_ag,\n",
    "        \"end_with_ag_count\": end_with_ag_count\n",
    "    }"
   ]
  },
  {
   "cell_type": "code",
   "execution_count": 55,
   "metadata": {},
   "outputs": [
    {
     "name": "stderr",
     "output_type": "stream",
     "text": [
      "100%|██████████| 248692/248692 [00:03<00:00, 82602.38it/s]\n",
      " 10%|▉         | 23948/248692 [00:00<00:01, 121191.59it/s]"
     ]
    },
    {
     "name": "stdout",
     "output_type": "stream",
     "text": [
      ">>> ONLY CONSIDERING 'Essential' GENES <<<\n",
      ">>> ONLY CONSIDERING FIRST INTRONS <<<\n",
      "Looked at 694923 base pairs from 164 introns belonging to 164 genes.\n",
      "\n",
      "[MISC] % Start with GT: 0.9939024390243902%  =  (163/164)\n",
      "[MISC] % Ends with AG:  1.0%  =  (164/164)\n"
     ]
    },
    {
     "name": "stderr",
     "output_type": "stream",
     "text": [
      "100%|██████████| 248692/248692 [00:02<00:00, 86524.02it/s]\n",
      "  9%|▉         | 23504/248692 [00:00<00:01, 119374.76it/s]"
     ]
    },
    {
     "name": "stdout",
     "output_type": "stream",
     "text": [
      ">>> ONLY CONSIDERING 'Essential' GENES <<<\n",
      "Looked at 3825250 base pairs from 1828 introns belonging to 156 genes.\n",
      "\n",
      "[MISC] % Start with GT: 0.9928884026258206%  =  (1815/1828)\n",
      "[MISC] % Ends with AG:  0.9983588621444202%  =  (1825/1828)\n"
     ]
    },
    {
     "name": "stderr",
     "output_type": "stream",
     "text": [
      "100%|██████████| 248692/248692 [00:02<00:00, 88257.32it/s]\n",
      "  9%|▉         | 22647/248692 [00:00<00:01, 113934.63it/s]"
     ]
    },
    {
     "name": "stdout",
     "output_type": "stream",
     "text": [
      ">>> ONLY CONSIDERING 'Conditional' GENES <<<\n",
      ">>> ONLY CONSIDERING FIRST INTRONS <<<\n",
      "Looked at 79612840 base pairs from 6640 introns belonging to 6640 genes.\n",
      "\n",
      "[MISC] % Start with GT: 0.9890060240963855%  =  (6567/6640)\n",
      "[MISC] % Ends with AG:  0.9989457831325301%  =  (6633/6640)\n"
     ]
    },
    {
     "name": "stderr",
     "output_type": "stream",
     "text": [
      "100%|██████████| 248692/248692 [00:02<00:00, 85456.59it/s]\n",
      "  5%|▌         | 12464/248692 [00:00<00:01, 124621.40it/s]"
     ]
    },
    {
     "name": "stdout",
     "output_type": "stream",
     "text": [
      ">>> ONLY CONSIDERING 'Conditional' GENES <<<\n",
      "Looked at 267057286 base pairs from 62731 introns belonging to 6134 genes.\n",
      "\n",
      "[MISC] % Start with GT: 0.9908817012322456%  =  (62159/62731)\n",
      "[MISC] % Ends with AG:  0.9979117182892031%  =  (62600/62731)\n"
     ]
    },
    {
     "name": "stderr",
     "output_type": "stream",
     "text": [
      "100%|██████████| 248692/248692 [00:02<00:00, 87392.57it/s]\n",
      "  5%|▍         | 11321/248692 [00:00<00:02, 113207.68it/s]"
     ]
    },
    {
     "name": "stdout",
     "output_type": "stream",
     "text": [
      ">>> ONLY CONSIDERING 'Nonessential' GENES <<<\n",
      ">>> ONLY CONSIDERING FIRST INTRONS <<<\n",
      "Looked at 175231813 base pairs from 12476 introns belonging to 12476 genes.\n",
      "\n",
      "[MISC] % Start with GT: 0.9845302981724912%  =  (12283/12476)\n",
      "[MISC] % Ends with AG:  0.9961526130169926%  =  (12428/12476)\n"
     ]
    },
    {
     "name": "stderr",
     "output_type": "stream",
     "text": [
      "100%|██████████| 248692/248692 [00:03<00:00, 81710.11it/s]"
     ]
    },
    {
     "name": "stdout",
     "output_type": "stream",
     "text": [
      ">>> ONLY CONSIDERING 'Nonessential' GENES <<<\n",
      "Looked at 497641050 base pairs from 97164 introns belonging to 10874 genes.\n",
      "\n",
      "[MISC] % Start with GT: 0.9898213330039932%  =  (96175/97164)\n",
      "[MISC] % Ends with AG:  0.9980857107570705%  =  (96978/97164)\n"
     ]
    },
    {
     "name": "stderr",
     "output_type": "stream",
     "text": [
      "\n"
     ]
    }
   ],
   "source": [
    "results_GT_first = []\n",
    "results_GT_other = []\n",
    "results_AG_first = []\n",
    "results_AG_other = []\n",
    "for e in [\"Essential\", \"Conditional\", \"Nonessential\"]:\n",
    "    first =  GT_AG_sites(essential_filter=e, only_first_intron=True)\n",
    "    not_first =  GT_AG_sites(essential_filter=e, only_first_intron=False)\n",
    "    results_GT_first.append(first[\"start_with_gt\"]/first[\"start_with_gt_count\"])\n",
    "    results_GT_other.append(not_first[\"start_with_gt\"]/not_first[\"start_with_gt_count\"])\n",
    "    results_AG_first.append(first[\"end_with_ag\"]/first[\"end_with_ag_count\"])\n",
    "    results_AG_other.append(not_first[\"end_with_ag\"]/not_first[\"end_with_ag_count\"])"
   ]
  },
  {
   "cell_type": "code",
   "execution_count": 61,
   "metadata": {},
   "outputs": [
    {
     "data": {
      "text/plain": [
       "<BarContainer object of 6 artists>"
      ]
     },
     "execution_count": 61,
     "metadata": {},
     "output_type": "execute_result"
    },
    {
     "data": {
      "image/png": "[encoded data removed]",
      "text/plain": [
       "<Figure size 432x288 with 1 Axes>"
      ]
     },
     "metadata": {
      "needs_background": "light"
     },
     "output_type": "display_data"
    }
   ],
   "source": [
    "results_GT = results_GT_first + results_GT_other\n",
    "results_AG = results_AG_first + results_AG_other\n"
   ]
  },
  {
   "cell_type": "code",
   "execution_count": 131,
   "metadata": {},
   "outputs": [
    {
     "data": {
      "image/png": "[encoded data removed]",
      "text/plain": [
       "<Figure size 432x288 with 1 Axes>"
      ]
     },
     "metadata": {
      "needs_background": "light"
     },
     "output_type": "display_data"
    }
   ],
   "source": [
    "results_GT_Ess = [results_GT_first[0], results_GT_other[0]]\n",
    "results_GT_Cond = [results_GT_first[1], results_GT_other[1]]\n",
    "results_GT_Non = [results_GT_first[2], results_GT_other[2]]\n",
    "\n",
    "\n",
    "#labels = [\"Essential\", \"Conditional\", \"Nonessential\"]\n",
    "labels = [\"First Intron\",  \"Later Introns\"]\n",
    "x = [0,3]\n",
    "width = 0.7  # the width of the bars\n",
    "\n",
    "fig, ax = plt.subplots()\n",
    "rects1 = ax.bar([0,4], results_GT_Ess, width, label='Essential', color=\"lightblue\")\n",
    "rects2 = ax.bar([1,5], results_GT_Cond, width, label='Conditional', color=\"coral\")\n",
    "rects3 = ax.bar([2,6], results_GT_Non, width, label='Non Essential', color=\"wheat\")\n",
    "plt.ylim([0.978,1.001])\n",
    "ax.set_ylabel('Frequency of GU at 5\\' splice site')\n",
    "#ax.set_title('Frequency of GU at 5\\' splice site')\n",
    "\n",
    "ax.set_xticks([1,5])\n",
    "ax.set_xticklabels(labels)\n",
    "ax.legend()\n",
    "\n",
    "plt.show()"
   ]
  },
  {
   "cell_type": "code",
   "execution_count": 132,
   "metadata": {},
   "outputs": [
    {
     "data": {
      "image/png": "[encoded data removed]",
      "text/plain": [
       "<Figure size 432x288 with 1 Axes>"
      ]
     },
     "metadata": {
      "needs_background": "light"
     },
     "output_type": "display_data"
    }
   ],
   "source": [
    "results_AG_Ess = [results_AG_first[0], results_AG_other[0]]\n",
    "results_AG_Cond = [results_AG_first[1], results_AG_other[1]]\n",
    "results_AG_Non = [results_AG_first[2], results_AG_other[2]]\n",
    "\n",
    "\n",
    "#labels = [\"Essential\", \"Conditional\", \"Nonessential\"]\n",
    "labels = [\"First Intron\",  \"Later Introns\"]\n",
    "x = [0,3]\n",
    "width = 0.7  # the width of the bars\n",
    "\n",
    "fig, ax = plt.subplots()\n",
    "rects1 = ax.bar([0,4], results_AG_Ess, width, label='Essential', color=\"lightblue\")\n",
    "rects2 = ax.bar([1,5], results_AG_Cond, width, label='Conditional', color=\"coral\")\n",
    "rects3 = ax.bar([2,6], results_AG_Non, width, label='Non Essential', color=\"wheat\")\n",
    "plt.ylim([0.978,1.001])\n",
    "\n",
    "ax.set_ylabel('Frequency of AG at 3\\' splice site')\n",
    "#ax.set_title('Frequency of AG at 3\\' splice site')\n",
    "\n",
    "ax.set_xticks([1,5])\n",
    "ax.set_xticklabels(labels)\n",
    "#ax.legend()\n",
    "\n",
    "plt.show()"
   ]
  },
  {
   "cell_type": "code",
   "execution_count": null,
   "metadata": {},
   "outputs": [],
   "source": []
  }
 ],
 "metadata": {
  "kernelspec": {
   "display_name": "Python 3.5",
   "language": "python",
   "name": "python3"
  },
  "language_info": {
   "codemirror_mode": {
    "name": "ipython",
    "version": 3
   },
   "file_extension": ".py",
   "mimetype": "text/x-python",
   "name": "python",
   "nbconvert_exporter": "python",
   "pygments_lexer": "ipython3",
   "version": "3.5.6"
  }
 },
 "nbformat": 4,
 "nbformat_minor": 2
}
