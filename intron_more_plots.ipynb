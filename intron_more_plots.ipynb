{
 "cells": [
  {
   "cell_type": "code",
   "execution_count": 103,
   "metadata": {},
   "outputs": [],
   "source": [
    "import numpy as np\n",
    "from tqdm import tqdm\n",
    "import matplotlib.pyplot as plt"
   ]
  },
  {
   "cell_type": "code",
   "execution_count": 55,
   "metadata": {},
   "outputs": [
    {
     "name": "stderr",
     "output_type": "stream",
     "text": [
      "100%|██████████| 21557/21557 [00:00<00:00, 380290.01it/s]\n"
     ]
    }
   ],
   "source": [
    "ESSENTIALITY_FILE = 'essentiality.csv'\n",
    "ESSENTIALITY_DICT = {\n",
    "    \"Nonessential\": 0,\n",
    "    \"Conditional\": 1,\n",
    "    \"Essential\": 2\n",
    "}\n",
    "essentialities = {}\n",
    "\n",
    "num_lines_ess = sum(1 for line in open(ESSENTIALITY_FILE,'r'))\n",
    "with open(ESSENTIALITY_FILE) as f:\n",
    "    # titles\n",
    "    f.readline()\n",
    "    \n",
    "    for i in tqdm(range(num_lines_ess)):\n",
    "        line = f.readline().split(\",\")\n",
    "\n",
    "        # ignore empty lines\n",
    "        if len(line) < 2:\n",
    "            continue\n",
    "\n",
    "        ess = line[1]\n",
    "        # sanity check\n",
    "        if ess in ESSENTIALITY_DICT:\n",
    "            essentialities[line[0]] = ESSENTIALITY_DICT[ess]"
   ]
  },
  {
   "cell_type": "code",
   "execution_count": 58,
   "metadata": {},
   "outputs": [
    {
     "name": "stdout",
     "output_type": "stream",
     "text": [
      "14388\n",
      "6985\n",
      "183\n"
     ]
    }
   ],
   "source": [
    "print(sum([1 if v == ESSENTIALITY_DICT[\"Nonessential\"] else 0 for k, v in essentialities.items()]))\n",
    "print(sum([1 if v == ESSENTIALITY_DICT[\"Conditional\"] else 0 for k, v in essentialities.items()]))\n",
    "print(sum([1 if v == ESSENTIALITY_DICT[\"Essential\"] else 0 for k, v in essentialities.items()]))"
   ]
  },
  {
   "cell_type": "code",
   "execution_count": 10,
   "metadata": {},
   "outputs": [
    {
     "name": "stderr",
     "output_type": "stream",
     "text": [
      "100%|██████████| 248692/248692 [00:06<00:00, 40284.53it/s]"
     ]
    },
    {
     "name": "stdout",
     "output_type": "stream",
     "text": [
      "percent start with GT:  241805 out of  248692  =  0.9723071108037251 %\n",
      "percent end with AG:  244830 out of  248692  =  0.9844707509690702 %\n"
     ]
    },
    {
     "name": "stderr",
     "output_type": "stream",
     "text": [
      "\n"
     ]
    }
   ],
   "source": [
    "num_lines = sum(1 for line in open('introns.csv','r'))\n",
    "\n",
    "with open('introns.csv') as f:\n",
    "    \n",
    "    num_start_gt = 0\n",
    "    num_end_ag = 0\n",
    "    total = 0\n",
    "    \n",
    "    for i in tqdm(range(num_lines)):\n",
    "        code = f.readline().split(',')[4][:-1]\n",
    "        if code[:2] == \"GT\":\n",
    "            num_start_gt += 1\n",
    "        if code[-2:] == \"AG\":\n",
    "            num_end_ag += 1\n",
    "        total += 1\n",
    "\n",
    "print(\"percent start with GT: \", num_start_gt, 'out of ', total, ' = ', num_start_gt/total, '%')\n",
    "print(\"percent end with AG: \", num_end_ag, 'out of ', total, ' = ', num_end_ag/total, '%')"
   ]
  },
  {
   "cell_type": "code",
   "execution_count": 17,
   "metadata": {},
   "outputs": [
    {
     "name": "stderr",
     "output_type": "stream",
     "text": [
      "100%|██████████| 248692/248692 [00:07<00:00, 33640.60it/s]\n"
     ]
    }
   ],
   "source": [
    "keys = {'A':0, 'C':1, 'G':2, 'T':3}\n",
    "probs = np.zeros((4, 4))\n",
    "\n",
    "with open('introns.csv') as f:\n",
    "    for i in tqdm(range(num_lines)):\n",
    "        code = f.readline().split(',')[4][:-1]\n",
    "        code = code[2:6]\n",
    "        \n",
    "        for i, char in enumerate(code):\n",
    "            if char == \"N\": \n",
    "                probs[i] += 0.25 # add equal weight to each base pair\n",
    "            else:\n",
    "                char_key = keys[char]\n",
    "                probs[i][char_key] += 1"
   ]
  },
  {
   "cell_type": "code",
   "execution_count": 40,
   "metadata": {},
   "outputs": [
    {
     "name": "stdout",
     "output_type": "stream",
     "text": [
      "Probabilities of each base pair appearing immediately after GT:\n",
      "  A          C          G          T\n",
      "[[0.58617085 0.03152896 0.34753028 0.03443215]\n",
      " [0.69059419 0.0752668  0.12010137 0.1135712 ]\n",
      " [0.09108154 0.05997077 0.76940251 0.07901038]\n",
      " [0.18356944 0.14681715 0.18900186 0.48002449]]\n"
     ]
    }
   ],
   "source": [
    "print('Probabilities of each base pair appearing immediately after GT:')\n",
    "print('  A          C          G          T')\n",
    "print(probs / num_lines)"
   ]
  },
  {
   "cell_type": "code",
   "execution_count": 44,
   "metadata": {},
   "outputs": [
    {
     "data": {
      "text/plain": [
       "array([[0.58617085, 0.03152896, 0.34753028, 0.03443215],\n",
       "       [0.69059419, 0.0752668 , 0.12010137, 0.1135712 ],\n",
       "       [0.09108154, 0.05997077, 0.76940251, 0.07901038],\n",
       "       [0.18356944, 0.14681715, 0.18900186, 0.48002449]])"
      ]
     },
     "execution_count": 44,
     "metadata": {},
     "output_type": "execute_result"
    }
   ],
   "source": [
    "probs / num_lines"
   ]
  },
  {
   "cell_type": "code",
   "execution_count": 46,
   "metadata": {},
   "outputs": [
    {
     "name": "stderr",
     "output_type": "stream",
     "text": [
      "100%|██████████| 248692/248692 [04:31<00:00, 916.30it/s] "
     ]
    },
    {
     "name": "stdout",
     "output_type": "stream",
     "text": [
      "582320 Ns out of 1535783156 --> percent:  0.00037916811219408897\n"
     ]
    },
    {
     "name": "stderr",
     "output_type": "stream",
     "text": [
      "\n"
     ]
    }
   ],
   "source": [
    "total_bp = 0\n",
    "total_n = 0\n",
    "with open('introns.csv') as f:\n",
    "    for _ in tqdm(range(num_lines)):\n",
    "        code = f.readline().split(',')[4][:-1]\n",
    "        total_bp += len(code)\n",
    "        total_n += sum([1 if x == \"N\" else 0 for x in code])\n",
    "\n",
    "print(total_n, \"Ns out of\", total_bp, \"--> percent: \", total_n/total_bp)\n",
    "# 582320 Ns out of 1535783156 --> percent:  0.00037916811219408897"
   ]
  },
  {
   "cell_type": "code",
   "execution_count": 48,
   "metadata": {},
   "outputs": [
    {
     "name": "stderr",
     "output_type": "stream",
     "text": [
      "100%|██████████| 248692/248692 [25:22<00:00, 163.30it/s] "
     ]
    },
    {
     "name": "stdout",
     "output_type": "stream",
     "text": [
      "Length: 2029\n",
      "GC: 264.6191192318209\n",
      "GT: 330.2089291171409\n",
      "GCAAGU: 0.9855244293248102\n",
      "GUAAGU: 1.0081794636100954\n",
      "AG: 2.01617261512232\n"
     ]
    },
    {
     "name": "stderr",
     "output_type": "stream",
     "text": [
      "\n"
     ]
    }
   ],
   "source": [
    "# as calculated above\n",
    "probabilities = [\n",
    "    [0.58617085, 0.03152896, 0.34753028, 0.03443215],\n",
    "    [0.69059419, 0.0752668 , 0.12010137, 0.1135712 ],\n",
    "    [0.09108154, 0.05997077, 0.76940251, 0.07901038],\n",
    "    [0.18356944, 0.14681715, 0.18900186, 0.48002449]]\n",
    "\n",
    "keys = {'A':0, 'C':1, 'G':2, 'T':3}\n",
    "BRANCH_LOC = 40\n",
    "GC_count = 0\n",
    "GT_count = 0\n",
    "GC_prob_count = 0\n",
    "GT_prob_count = 0\n",
    "GC_prob = 0\n",
    "GT_prob = 0\n",
    "AG_count = 0\n",
    "\n",
    "num_base_pairs = 0\n",
    "\n",
    "with open('introns.csv') as f:\n",
    "    for _ in tqdm(range(num_lines)):\n",
    "        code = f.readline().split(',')[4][:-1]\n",
    "        \n",
    "        #We begin at 6 to ignore the first 5' splice site\n",
    "        for i in range(6,len(code)-1):\n",
    "            \n",
    "\n",
    "            if i < len(code)-(BRANCH_LOC+6):\n",
    "\n",
    "\n",
    "                if code[i:i+2] == \"GC\":\n",
    "                    GC_count += 1\n",
    "                    if 'N' not in code[i+2:i+6]:\n",
    "                        consensus = sum([probabilities[j][keys[code[i+2+j]]] for j in range(0,4)])\n",
    "                        GC_prob += consensus\n",
    "                        GC_prob_count += 1\n",
    "                elif code[i:i+2] == \"GT\":\n",
    "                    GT_count += 1\n",
    "                    if 'N' not in code[i+2:i+6]:\n",
    "                        consensus = sum([probabilities[j][keys[code[i+2+j]]] for j in range(0,4)])\n",
    "                        GT_prob += consensus\n",
    "                        GT_prob_count += 1\n",
    "\n",
    "            elif i > len(code) - BRANCH_LOC:\n",
    "                if code[i:i+2] == \"AG\":\n",
    "                    AG_count += 1\n",
    "\n",
    "print(\"Length: \" + str(len(code)))\n",
    "print(\"GC: \" + str(GC_count / num_lines))\n",
    "print(\"GT: \" + str(GT_count / num_lines))\n",
    "print(\"GCAAGU: \" + str(GC_prob / GC_prob_count))\n",
    "print(\"GUAAGU: \" + str(GT_prob / GT_prob_count))\n",
    "print(\"AG: \" + str(AG_count / num_lines))"
   ]
  },
  {
   "cell_type": "code",
   "execution_count": 49,
   "metadata": {},
   "outputs": [
    {
     "name": "stderr",
     "output_type": "stream",
     "text": [
      "100%|██████████| 248692/248692 [00:03<00:00, 66709.11it/s]\n"
     ]
    },
    {
     "name": "stdout",
     "output_type": "stream",
     "text": [
      "1524343324\n"
     ]
    }
   ],
   "source": [
    "num_base_pairs = 0\n",
    "with open('introns.csv') as f:\n",
    "    for _ in tqdm(range(num_lines)):\n",
    "        code = f.readline().split(',')[4][:-1]\n",
    "        num_base_pairs += len(code) - BRANCH_LOC - 6\n",
    "print(num_base_pairs)"
   ]
  },
  {
   "cell_type": "code",
   "execution_count": 51,
   "metadata": {},
   "outputs": [
    {
     "name": "stdout",
     "output_type": "stream",
     "text": [
      "Number of base pairs: 1524343324\n",
      "GC frequency: 0.04317180845277871\n",
      "GT frequency: 0.0538725874329345\n",
      "GC[AAGU] consensus avg: 0.9855244293248102\n",
      "GT[AAGU] consensus avg: 1.0081794636100954\n",
      "AG frequency (per last 40): 2.01617261512232\n"
     ]
    }
   ],
   "source": [
    "print(\"Number of base pairs: \" + str(num_base_pairs))\n",
    "print(\"GC frequency: \" + str(GC_count / num_base_pairs))\n",
    "print(\"GT frequency: \" + str(GT_count / num_base_pairs))\n",
    "print(\"GC[AAGU] consensus avg: \" + str(GC_prob / GC_prob_count))\n",
    "print(\"GT[AAGU] consensus avg: \" + str(GT_prob / GT_prob_count))\n",
    "print(\"AG frequency (per last 40): \" + str(AG_count / num_lines))"
   ]
  },
  {
   "cell_type": "code",
   "execution_count": 93,
   "metadata": {},
   "outputs": [],
   "source": [
    "\n",
    "def calculate_ethans_stuff(essential_filter=None, only_first_intron=False):\n",
    "    # as calculated above\n",
    "    probabilities = [\n",
    "        [0.58617085, 0.03152896, 0.34753028, 0.03443215],\n",
    "        [0.69059419, 0.0752668 , 0.12010137, 0.1135712 ],\n",
    "        [0.09108154, 0.05997077, 0.76940251, 0.07901038],\n",
    "        [0.18356944, 0.14681715, 0.18900186, 0.48002449]]\n",
    "    keys = {'A':0, 'C':1, 'G':2, 'T':3}\n",
    "    BRANCH_LOC = 40\n",
    "\n",
    "    GC_count = 0\n",
    "    GT_count = 0\n",
    "    GC_prob_count = 0\n",
    "    GT_prob_count = 0\n",
    "    GC_prob = 0\n",
    "    GT_prob = 0\n",
    "    AG_count = 0\n",
    "\n",
    "    start_with_gt = 0\n",
    "    start_with_gt_count = 0\n",
    "    end_with_ag = 0\n",
    "    end_with_ag_count = 0\n",
    "\n",
    "    num_base_pairs = 0\n",
    "    num_introns_considered = 0\n",
    "    genes_considered = set()\n",
    "\n",
    "    with open('introns.csv') as f:\n",
    "        for _ in tqdm(range(num_lines), position=0, leave=True):\n",
    "            line = f.readline().split(',')\n",
    "            gene = line[0]\n",
    "            intron_num = int(line[3]) # <--- TODO check this is right\n",
    "            code = line[4][:-1]\n",
    "\n",
    "            # First intron filter, if applicable\n",
    "            if only_first_intron and intron_num != 1:\n",
    "                continue\n",
    "                \n",
    "            # Essentiality filter, if applicable\n",
    "            if essential_filter != None:\n",
    "                if gene in essentialities:\n",
    "                    # essentiality is not what we want; skip it\n",
    "                    if essentialities[gene] != ESSENTIALITY_DICT[essential_filter]:\n",
    "                        continue\n",
    "                else:\n",
    "                    # we don't know essentiality; skip it\n",
    "                    continue\n",
    "\n",
    "            # If we passed all filters\n",
    "\n",
    "            genes_considered.add(gene)\n",
    "            num_introns_considered += 1\n",
    "            num_base_pairs += len(code) - BRANCH_LOC - 6\n",
    "            \n",
    "            # Check start for GT\n",
    "            if code[:2] == \"GT\":\n",
    "                start_with_gt += 1\n",
    "            start_with_gt_count += 1\n",
    "\n",
    "            # Check end fot AG\n",
    "            if code[-2:] == \"AG\":\n",
    "                end_with_ag += 1\n",
    "            end_with_ag_count += 1\n",
    "\n",
    "            # Josh wrote this stuff:\n",
    "            \n",
    "            #We begin at 6 to ignore the first 5' splice site\n",
    "            for i in range(6,len(code)-1):\n",
    "\n",
    "                if i < len(code)-(BRANCH_LOC+6):\n",
    "\n",
    "                    # Look at sequences immediately following GC\n",
    "                    if code[i:i+2] == \"GC\":\n",
    "                        GC_count += 1\n",
    "                        if 'N' not in code[i+2:i+6]:\n",
    "                            consensus = sum([probabilities[j][keys[code[i+2+j]]] for j in range(0,4)])\n",
    "                            GC_prob += consensus\n",
    "                            GC_prob_count += 1\n",
    "\n",
    "                    # Look at sequences immediately following GT\n",
    "                    elif code[i:i+2] == \"GT\":\n",
    "                        GT_count += 1\n",
    "                        if 'N' not in code[i+2:i+6]:\n",
    "                            consensus = sum([probabilities[j][keys[code[i+2+j]]] for j in range(0,4)])\n",
    "                            GT_prob += consensus\n",
    "                            GT_prob_count += 1\n",
    "\n",
    "                elif i > len(code) - BRANCH_LOC:\n",
    "                    if code[i:i+2] == \"AG\":\n",
    "                        AG_count += 1\n",
    "                        \n",
    "    if essential_filter != None:\n",
    "        print(\">>> ONLY CONSIDERING '\" + essential_filter + \"' GENES <<<\")\n",
    "    if only_first_intron:\n",
    "        print(\">>> ONLY CONSIDERING FIRST INTRONS <<<\")\n",
    "\n",
    "    print(\"Looked at\", num_base_pairs, \"base pairs from\", num_introns_considered, \"introns belonging to\", len(genes_considered), \"genes.\")\n",
    "    print(\"--------------------------\")\n",
    "    print(\"[PRE-BRANCH] Frequency of GCs: \" + str(GC_count / num_base_pairs) + \"  =  (\" + str(GC_count) + \"/\" + str(num_base_pairs) + \")\")\n",
    "    print(\"[PRE-BRANCH] Frequency of GTs: \" + str(GT_count / num_base_pairs) + \"  =  (\" + str(GT_count) + \"/\" + str(num_base_pairs) + \")\")\n",
    "    print(\"[PRE-BRANCH] Post-GC consensus score avg: \" + str(GC_prob / GC_prob_count) + \"  =  (\" + str(GC_prob) + \"/\" + str(GC_prob_count) + \")\")\n",
    "    print(\"[PRE-BRANCH] Post-GT consensus score avg: \" + str(GT_prob / GT_prob_count) + \"  =  (\" + str(GT_prob) + \"/\" + str(GT_prob_count) + \")\")\n",
    "    print()\n",
    "    print(\"[POST-BRANCH] Average number of AGs in last 40: \" + str(AG_count / num_introns_considered) + \"  =  (\" + str(AG_count) + \"/\" + str(num_introns_considered) + \")\")\n",
    "    print()\n",
    "    print(\"[MISC] % Start with GT: \" + str(start_with_gt/start_with_gt_count) + \"%  =  (\" + str(start_with_gt) + \"/\" + str(start_with_gt_count) + \")\")\n",
    "    print(\"[MISC] % Ends with AG:  \" + str(end_with_ag/end_with_ag_count) + \"%  =  (\" + str(end_with_ag) + \"/\" + str(end_with_ag_count) + \")\")\n",
    "                            \n",
    "    return {\n",
    "        \"essential_filter\": essential_filter,\n",
    "        \"only_first_intron\": only_first_intron,\n",
    "        \"num_base_pairs\": num_base_pairs,\n",
    "        \"num_introns_considered\": num_introns_considered,\n",
    "        \n",
    "        \"GC_count\": GC_count, \n",
    "        \"GC_prob_count\": GC_prob_count,\n",
    "        \"GT_count\": GT_count,\n",
    "        \"GT_prob_count\": GT_prob_count,\n",
    "        \"GC_prob\": GC_prob,\n",
    "        \"GT_prob\": GT_prob,\n",
    "        \"AG_count\": AG_count,\n",
    "\n",
    "        \"start_with_gt\": start_with_gt,\n",
    "        \"start_with_gt_count\": start_with_gt_count,\n",
    "        \"end_with_ag\": end_with_ag,\n",
    "        \"end_with_ag_count\": end_with_ag_count\n",
    "    }"
   ]
  },
  {
   "cell_type": "code",
   "execution_count": 90,
   "metadata": {},
   "outputs": [
    {
     "name": "stderr",
     "output_type": "stream",
     "text": [
      "100%|██████████| 248692/248692 [00:06<00:00, 39239.20it/s]\n",
      "  0%|          | 195/248692 [00:00<02:53, 1436.19it/s]"
     ]
    },
    {
     "name": "stdout",
     "output_type": "stream",
     "text": [
      ">>> ONLY CONSIDERING 'Essential' GENES <<<\n",
      "Looked at 4520173 base pairs from 1992 introns belonging to 164 genes.\n",
      "--------------------------\n",
      "[PRE-BRANCH] Frequency of GCs: 0.047538003523316476  =  (214880/4520173)\n",
      "[PRE-BRANCH] Frequency of GTs: 0.05686817739055563  =  (257054/4520173)\n",
      "[PRE-BRANCH] Post-GC consensus score avg: 0.9778034559302915  =  (210109.4288068451/214879)\n",
      "[PRE-BRANCH] Post-GT consensus score avg: 0.9987838284118109  =  (256741.37822856964/257054)\n",
      "\n",
      "[POST-BRANCH] Average number of AGs in last 40: 2.012550200803213  =  (4009/1992)\n",
      "\n",
      "[MISC] % Start with GT: 0.9929718875502008%  =  (1978/1992)\n",
      "[MISC] % Ends with AG:  0.9984939759036144%  =  (1989/1992)\n"
     ]
    },
    {
     "name": "stderr",
     "output_type": "stream",
     "text": [
      "100%|██████████| 248692/248692 [04:01<00:00, 1027.67it/s] \n",
      "  0%|          | 58/248692 [00:00<07:09, 578.55it/s]"
     ]
    },
    {
     "name": "stdout",
     "output_type": "stream",
     "text": [
      ">>> ONLY CONSIDERING 'Conditional' GENES <<<\n",
      "Looked at 346670126 base pairs from 69371 introns belonging to 6640 genes.\n",
      "--------------------------\n",
      "[PRE-BRANCH] Frequency of GCs: 0.044053614241914806  =  (15272072/346670126)\n",
      "[PRE-BRANCH] Frequency of GTs: 0.05560133843202861  =  (19275323/346670126)\n",
      "[PRE-BRANCH] Post-GC consensus score avg: 0.9825078024899346  =  (15004927.935172455/15272070)\n",
      "[PRE-BRANCH] Post-GT consensus score avg: 1.0073144149794255  =  (19416306.682026803/19275319)\n",
      "\n",
      "[POST-BRANCH] Average number of AGs in last 40: 1.9731299822692479  =  (136878/69371)\n",
      "\n",
      "[MISC] % Start with GT: 0.9907021666114082%  =  (68726/69371)\n",
      "[MISC] % Ends with AG:  0.9980106961122083%  =  (69233/69371)\n"
     ]
    },
    {
     "name": "stderr",
     "output_type": "stream",
     "text": [
      "100%|██████████| 248692/248692 [07:49<00:00, 529.72it/s]  \n",
      "  6%|▋         | 16034/248692 [00:00<00:02, 83019.03it/s]"
     ]
    },
    {
     "name": "stdout",
     "output_type": "stream",
     "text": [
      ">>> ONLY CONSIDERING 'Nonessential' GENES <<<\n",
      "Looked at 672872863 base pairs from 109640 introns belonging to 12476 genes.\n",
      "--------------------------\n",
      "[PRE-BRANCH] Frequency of GCs: 0.04345758851029782  =  (29241432/672872863)\n",
      "[PRE-BRANCH] Frequency of GTs: 0.054244382567706556  =  (36499573/672872863)\n",
      "[PRE-BRANCH] Post-GC consensus score avg: 0.9843128790598097  =  (28782712.213874374/29241426)\n",
      "[PRE-BRANCH] Post-GT consensus score avg: 1.0081491347396379  =  (36797005.8812723/36499566)\n",
      "\n",
      "[POST-BRANCH] Average number of AGs in last 40: 1.9850237139730025  =  (217638/109640)\n",
      "\n",
      "[MISC] % Start with GT: 0.9892192630426851%  =  (108458/109640)\n",
      "[MISC] % Ends with AG:  0.9978657424297701%  =  (109406/109640)\n"
     ]
    },
    {
     "name": "stderr",
     "output_type": "stream",
     "text": [
      "100%|██████████| 248692/248692 [00:03<00:00, 70239.85it/s]\n",
      "  0%|          | 435/248692 [00:00<00:58, 4218.18it/s]"
     ]
    },
    {
     "name": "stdout",
     "output_type": "stream",
     "text": [
      ">>> ONLY CONSIDERING 'Essential' GENES <<<\n",
      ">>> ONLY CONSIDERING FIRST INTRONS <<<\n",
      "Looked at 694923 base pairs from 164 introns belonging to 164 genes.\n",
      "--------------------------\n",
      "[PRE-BRANCH] Frequency of GCs: 0.050719288324030144  =  (35246/694923)\n",
      "[PRE-BRANCH] Frequency of GTs: 0.057446652362923664  =  (39921/694923)\n",
      "[PRE-BRANCH] Post-GC consensus score avg: 0.9759394131680657  =  (34397.96055652164/35246)\n",
      "[PRE-BRANCH] Post-GT consensus score avg: 1.001694014833581  =  (39988.62676617138/39921)\n",
      "\n",
      "[POST-BRANCH] Average number of AGs in last 40: 1.9634146341463414  =  (322/164)\n",
      "\n",
      "[MISC] % Start with GT: 0.9939024390243902%  =  (163/164)\n",
      "[MISC] % Ends with AG:  1.0%  =  (164/164)\n"
     ]
    },
    {
     "name": "stderr",
     "output_type": "stream",
     "text": [
      "100%|██████████| 248692/248692 [00:59<00:00, 4214.74it/s] \n",
      "  0%|          | 265/248692 [00:00<02:17, 1811.32it/s]"
     ]
    },
    {
     "name": "stdout",
     "output_type": "stream",
     "text": [
      ">>> ONLY CONSIDERING 'Conditional' GENES <<<\n",
      ">>> ONLY CONSIDERING FIRST INTRONS <<<\n",
      "Looked at 79612840 base pairs from 6640 introns belonging to 6640 genes.\n",
      "--------------------------\n",
      "[PRE-BRANCH] Frequency of GCs: 0.04652789675635237  =  (3704218/79612840)\n",
      "[PRE-BRANCH] Frequency of GTs: 0.05627353577638984  =  (4480096/79612840)\n",
      "[PRE-BRANCH] Post-GC consensus score avg: 0.9767425729027093  =  (3618067.419912528/3704218)\n",
      "[PRE-BRANCH] Post-GT consensus score avg: 1.005820565797406  =  (4506168.670264432/4480092)\n",
      "\n",
      "[POST-BRANCH] Average number of AGs in last 40: 1.9480421686746987  =  (12935/6640)\n",
      "\n",
      "[MISC] % Start with GT: 0.9890060240963855%  =  (6567/6640)\n",
      "[MISC] % Ends with AG:  0.9989457831325301%  =  (6633/6640)\n"
     ]
    },
    {
     "name": "stderr",
     "output_type": "stream",
     "text": [
      "100%|██████████| 248692/248692 [02:04<00:00, 1990.20it/s] "
     ]
    },
    {
     "name": "stdout",
     "output_type": "stream",
     "text": [
      ">>> ONLY CONSIDERING 'Nonessential' GENES <<<\n",
      ">>> ONLY CONSIDERING FIRST INTRONS <<<\n",
      "Looked at 175231813 base pairs from 12476 introns belonging to 12476 genes.\n",
      "--------------------------\n",
      "[PRE-BRANCH] Frequency of GCs: 0.04504613554389236  =  (7893516/175231813)\n",
      "[PRE-BRANCH] Frequency of GTs: 0.05480476881215627  =  (9603539/175231813)\n",
      "[PRE-BRANCH] Post-GC consensus score avg: 0.9801005332218404  =  (7736437.280394062/7893514)\n",
      "[PRE-BRANCH] Post-GT consensus score avg: 1.00777503609017  =  (9678204.846768284/9603537)\n",
      "\n",
      "[POST-BRANCH] Average number of AGs in last 40: 1.968499519076627  =  (24559/12476)\n",
      "\n",
      "[MISC] % Start with GT: 0.9845302981724912%  =  (12283/12476)\n",
      "[MISC] % Ends with AG:  0.9961526130169926%  =  (12428/12476)\n"
     ]
    },
    {
     "name": "stderr",
     "output_type": "stream",
     "text": [
      "\n"
     ]
    }
   ],
   "source": [
    "results = {}\n",
    "results_first_intron = {}\n",
    "for e in [\"Essential\", \"Conditional\", \"Nonessential\"]:\n",
    "    results[e] = calculate_ethans_stuff(essential_filter=e, only_first_intron=False)\n",
    "\n",
    "results_first_intron = {}\n",
    "for e in [\"Essential\", \"Conditional\", \"Nonessential\"]:\n",
    "    results_first_intron[e] = calculate_ethans_stuff(essential_filter=e, only_first_intron=True)"
   ]
  },
  {
   "cell_type": "code",
   "execution_count": 87,
   "metadata": {},
   "outputs": [
    {
     "name": "stderr",
     "output_type": "stream",
     "text": [
      "\n",
      "  0%|          | 0/248692 [00:00<?, ?it/s]\u001b[A\n",
      "  4%|▎         | 8861/248692 [00:00<00:02, 88591.50it/s]\u001b[A\n",
      "  6%|▋         | 15867/248692 [00:00<00:02, 81394.90it/s]\u001b[A\n",
      " 10%|▉         | 24335/248692 [00:00<00:02, 82352.86it/s]\u001b[A\n",
      " 12%|█▏        | 29615/248692 [00:00<00:03, 63344.88it/s]\u001b[A\n",
      " 14%|█▍        | 35805/248692 [00:00<00:03, 62904.17it/s]\u001b[A\n",
      " 18%|█▊        | 43628/248692 [00:00<00:03, 66741.72it/s]\u001b[A\n",
      " 21%|██        | 51343/248692 [00:00<00:02, 69554.08it/s]\u001b[A\n",
      " 23%|██▎       | 57893/248692 [00:00<00:02, 67961.10it/s]\u001b[A\n",
      " 26%|██▌       | 64414/248692 [00:00<00:02, 66961.58it/s]\u001b[A\n",
      " 29%|██▉       | 71523/248692 [00:01<00:02, 68143.98it/s]\u001b[A\n",
      " 32%|███▏      | 78675/248692 [00:01<00:02, 69122.43it/s]\u001b[A\n",
      " 34%|███▍      | 85749/248692 [00:01<00:02, 69472.93it/s]\u001b[A\n",
      " 38%|███▊      | 93311/248692 [00:01<00:02, 71190.38it/s]\u001b[A\n",
      " 40%|████      | 100399/248692 [00:01<00:02, 67153.82it/s]\u001b[A\n",
      " 43%|████▎     | 107889/248692 [00:01<00:02, 69303.84it/s]\u001b[A\n",
      " 46%|████▌     | 114855/248692 [00:01<00:02, 59458.07it/s]\u001b[A\n",
      " 49%|████▉     | 121519/248692 [00:01<00:02, 61379.11it/s]\u001b[A\n",
      " 52%|█████▏    | 128633/248692 [00:01<00:01, 62438.78it/s]\u001b[A\n",
      " 55%|█████▍    | 135676/248692 [00:02<00:01, 64637.56it/s]\u001b[A\n",
      " 58%|█████▊    | 143139/248692 [00:02<00:01, 67311.39it/s]\u001b[A\n",
      " 61%|██████    | 150708/248692 [00:02<00:01, 69618.36it/s]\u001b[A\n",
      " 63%|██████▎   | 157771/248692 [00:02<00:01, 68500.61it/s]\u001b[A\n",
      " 66%|██████▋   | 165197/248692 [00:02<00:01, 70130.85it/s]\u001b[A\n",
      " 69%|██████▉   | 172272/248692 [00:02<00:01, 70039.59it/s]\u001b[A\n",
      " 72%|███████▏  | 179320/248692 [00:02<00:01, 66245.10it/s]\u001b[A\n",
      " 75%|███████▍  | 186018/248692 [00:02<00:00, 64520.66it/s]\u001b[A\n",
      " 77%|███████▋  | 192677/248692 [00:02<00:00, 65125.93it/s]\u001b[A\n",
      " 80%|████████  | 199676/248692 [00:02<00:00, 66487.77it/s]\u001b[A\n",
      " 83%|████████▎ | 206363/248692 [00:03<00:00, 57332.96it/s]\u001b[A\n",
      " 85%|████████▌ | 212346/248692 [00:03<00:00, 53916.23it/s]\u001b[A\n",
      " 88%|████████▊ | 219150/248692 [00:03<00:00, 56235.94it/s]\u001b[A\n",
      " 92%|█████████▏| 228930/248692 [00:03<00:00, 64453.47it/s]\u001b[A\n",
      " 96%|█████████▌| 238586/248692 [00:03<00:00, 71542.14it/s]\u001b[A\n",
      "100%|██████████| 248692/248692 [00:03<00:00, 66543.42it/s]\u001b[A"
     ]
    },
    {
     "name": "stdout",
     "output_type": "stream",
     "text": [
      ">>> ONLY CONSIDERING 'Essential' GENES <<<\n",
      ">>> ONLY CONSIDERING FIRST INTRONS <<<\n",
      "Looked at 694923 base pairs from 164 introns belonging to 164 genes.\n",
      "--------------------------\n",
      "[PRE-BRANCH] Frequency of GCs: 0.050719288324030144  =  (35246/694923)\n",
      "[PRE-BRANCH] Frequency of GTs: 0.057446652362923664  =  (39921/694923)\n",
      "[PRE-BRANCH] Post-GC consensus score avg: 0.9759394131680657  =  (34397.96055652164/35246)\n",
      "[PRE-BRANCH] Post-GT consensus score avg: 1.001694014833581  =  (39988.62676617138/39921)\n",
      "\n",
      "[POST-BRANCH] Average number of AGs in last 40: 1.9634146341463414  =  (322/164)\n",
      "\n",
      "[MISC] % Start with GT: 0.9939024390243902%  =  (163/164)\n",
      "[MISC] % Ends with AG:  1.0%  =  (164/164)\n"
     ]
    },
    {
     "name": "stderr",
     "output_type": "stream",
     "text": [
      "\n"
     ]
    },
    {
     "data": {
      "text/plain": [
       "{'essential_filter': 'Essential',\n",
       " 'only_first_intron': True,\n",
       " 'num_base_pairs': 694923,\n",
       " 'num_introns_considered': 164,\n",
       " 'GC_count': 35246,\n",
       " 'GC_prob_count': 35246,\n",
       " 'GT_count': 39921,\n",
       " 'GT_prob_count': 39921,\n",
       " 'GC_prob': 34397.96055652164,\n",
       " 'GT_prob': 39988.62676617138,\n",
       " 'AG_count': 322,\n",
       " 'start_with_gt': 163,\n",
       " 'start_with_gt_count': 164,\n",
       " 'end_with_ag': 164,\n",
       " 'end_with_ag_count': 164}"
      ]
     },
     "execution_count": 87,
     "metadata": {},
     "output_type": "execute_result"
    }
   ],
   "source": [
    "calculate_ethans_stuff(essential_filter=\"Essential\", only_first_intron=True)"
   ]
  },
  {
   "cell_type": "code",
   "execution_count": null,
   "metadata": {},
   "outputs": [],
   "source": [
    "with open('introns.csv') as f:\n",
    "        for _ in tqdm(range(num_lines)):\n",
    "            line = f.readline().split(',')\n",
    "            gene = line[0]\n",
    "            "
   ]
  },
  {
   "cell_type": "code",
   "execution_count": 97,
   "metadata": {},
   "outputs": [],
   "source": [
    "\n",
    "def calculate_start_end_freq(essential_filter=None, only_first_intron=False):\n",
    "    # as calculated above\n",
    "    probabilities = [\n",
    "        [0.58617085, 0.03152896, 0.34753028, 0.03443215],\n",
    "        [0.69059419, 0.0752668 , 0.12010137, 0.1135712 ],\n",
    "        [0.09108154, 0.05997077, 0.76940251, 0.07901038],\n",
    "        [0.18356944, 0.14681715, 0.18900186, 0.48002449]]\n",
    "    keys = {'A':0, 'C':1, 'G':2, 'T':3}\n",
    "    BRANCH_LOC = 40\n",
    "\n",
    "    AT_AC = 0\n",
    "    ATATCCT_AC = 0\n",
    "    ATATCCT_AG = 0\n",
    "    GTATCCT_AC = 0\n",
    "    GTATCCT_AG = 0\n",
    "\n",
    "    num_base_pairs = 0\n",
    "    num_introns_considered = 0\n",
    "    genes_considered = set()\n",
    "\n",
    "    with open('introns.csv') as f:\n",
    "        for _ in tqdm(range(num_lines), position=0, leave=True):\n",
    "            line = f.readline().split(',')\n",
    "            gene = line[0]\n",
    "            intron_num = int(line[3]) # <--- TODO check this is right\n",
    "            code = line[4][:-1]\n",
    "\n",
    "            # First intron filter, if applicable\n",
    "            if only_first_intron and intron_num != 1:\n",
    "                continue\n",
    "                \n",
    "            # Essentiality filter, if applicable\n",
    "            if essential_filter != None:\n",
    "                if gene in essentialities:\n",
    "                    # essentiality is not what we want; skip it\n",
    "                    if essentialities[gene] != ESSENTIALITY_DICT[essential_filter]:\n",
    "                        continue\n",
    "                else:\n",
    "                    # we don't know essentiality; skip it\n",
    "                    continue\n",
    "\n",
    "            # If we passed all filters\n",
    "\n",
    "            genes_considered.add(gene)\n",
    "            num_introns_considered += 1\n",
    "            num_base_pairs += len(code) - BRANCH_LOC - 6\n",
    "            \n",
    "            # Check start for AT\n",
    "            if code[:2] == \"AT\":\n",
    "                if code[-2:] == \"AC\": # end with AC\n",
    "                    AT_AC += 1\n",
    "        \n",
    "            # Check start for GTATCCT\n",
    "            if code[:7] == \"GTATCCT\":\n",
    "                if code[-2:] == \"AC\": # end with AC\n",
    "                    GTATCCT_AC += 1\n",
    "                elif code[-2:] == \"AG\": # end with AG\n",
    "                    GTATCCT_AG += 1\n",
    "\n",
    "            # Check start for ATATCCT\n",
    "            if code[:7] == \"ATATCCT\":\n",
    "                if code[-2:] == \"AC\": # end with AC\n",
    "                    ATATCCT_AC += 1\n",
    "                elif code[-2:] == \"AG\": # end with AG\n",
    "                    ATATCCT_AG += 1\n",
    "\n",
    "                        \n",
    "    if essential_filter != None:\n",
    "        print(\">>> ONLY CONSIDERING '\" + essential_filter + \"' GENES <<<\")\n",
    "    if only_first_intron:\n",
    "        print(\">>> ONLY CONSIDERING FIRST INTRONS <<<\")\n",
    "\n",
    "    print(\"Looked at\", num_base_pairs, \"base pairs from\", num_introns_considered, \"introns belonging to\", len(genes_considered), \"genes.\")\n",
    "    print(\"--------------------------\")\n",
    "    print(\"Start with AT      and end with AC: \" + str(AT_AC / num_introns_considered) + \"  =  (\" + str(AT_AC) + \"/\" + str(num_introns_considered) + \")\")\n",
    "    print(\"Start with ATATCCT and end with AC: \" + str(ATATCCT_AC / num_introns_considered) + \"  =  (\" + str(ATATCCT_AC) + \"/\" + str(num_introns_considered) + \")\")\n",
    "    print(\"Start with ATATCCT and end with AG: \" + str(ATATCCT_AG / num_introns_considered) + \"  =  (\" + str(ATATCCT_AG) + \"/\" + str(num_introns_considered) + \")\")\n",
    "    print(\"Start with GTATCCT and end with AC: \" + str(GTATCCT_AC / num_introns_considered) + \"  =  (\" + str(GTATCCT_AC) + \"/\" + str(num_introns_considered) + \")\")\n",
    "    print(\"Start with GTATCCT and end with AG: \" + str(GTATCCT_AG / num_introns_considered) + \"  =  (\" + str(GTATCCT_AG) + \"/\" + str(num_introns_considered) + \")\")\n",
    "                         \n",
    "    return {\n",
    "        \"essential_filter\": essential_filter,\n",
    "        \"only_first_intron\": only_first_intron,\n",
    "        \"num_base_pairs\": num_base_pairs,\n",
    "        \"num_introns_considered\": num_introns_considered,\n",
    "        \n",
    "        \"AT_AC\": GC_count, \n",
    "        \"ATATCCT_AC\": ATATCCT_AC,\n",
    "        \"ATATCCT_AG\": ATATCCT_AG,\n",
    "        \"GTATCCT_AC\": GTATCCT_AC,\n",
    "        \"GTATCCT_AG\": GTATCCT_AG,\n",
    "    }"
   ]
  },
  {
   "cell_type": "code",
   "execution_count": 98,
   "metadata": {},
   "outputs": [
    {
     "name": "stderr",
     "output_type": "stream",
     "text": [
      "100%|██████████| 248692/248692 [00:03<00:00, 76136.16it/s]\n",
      "  8%|▊         | 20244/248692 [00:00<00:02, 102694.02it/s]"
     ]
    },
    {
     "name": "stdout",
     "output_type": "stream",
     "text": [
      ">>> ONLY CONSIDERING 'Essential' GENES <<<\n",
      "Looked at 4520173 base pairs from 1992 introns belonging to 164 genes.\n",
      "--------------------------\n",
      "Start with AT      and end with AC: 0.0015060240963855422  =  (3/1992)\n",
      "Start with ATATCCT and end with AC: 0.0015060240963855422  =  (3/1992)\n",
      "Start with ATATCCT and end with AG: 0.0  =  (0/1992)\n",
      "Start with GTATCCT and end with AC: 0.0  =  (0/1992)\n",
      "Start with GTATCCT and end with AG: 0.004016064257028112  =  (8/1992)\n"
     ]
    },
    {
     "name": "stderr",
     "output_type": "stream",
     "text": [
      "100%|██████████| 248692/248692 [00:03<00:00, 73633.07it/s]\n",
      "  8%|▊         | 19215/248692 [00:00<00:02, 98469.20it/s] "
     ]
    },
    {
     "name": "stdout",
     "output_type": "stream",
     "text": [
      ">>> ONLY CONSIDERING 'Conditional' GENES <<<\n",
      "Looked at 346670126 base pairs from 69371 introns belonging to 6640 genes.\n",
      "--------------------------\n",
      "Start with AT      and end with AC: 0.0010667281717144051  =  (74/69371)\n",
      "Start with ATATCCT and end with AC: 0.0009658214527684479  =  (67/69371)\n",
      "Start with ATATCCT and end with AG: 2.8830491127416354e-05  =  (2/69371)\n",
      "Start with GTATCCT and end with AC: 0.0  =  (0/69371)\n",
      "Start with GTATCCT and end with AG: 0.003027201568378717  =  (210/69371)\n"
     ]
    },
    {
     "name": "stderr",
     "output_type": "stream",
     "text": [
      "100%|██████████| 248692/248692 [00:03<00:00, 73808.75it/s]\n",
      "  4%|▍         | 10529/248692 [00:00<00:02, 105171.00it/s]"
     ]
    },
    {
     "name": "stdout",
     "output_type": "stream",
     "text": [
      ">>> ONLY CONSIDERING 'Nonessential' GENES <<<\n",
      "Looked at 672872863 base pairs from 109640 introns belonging to 12476 genes.\n",
      "--------------------------\n",
      "Start with AT      and end with AC: 0.0008482305727836556  =  (93/109640)\n",
      "Start with ATATCCT and end with AC: 0.0007022984312294783  =  (77/109640)\n",
      "Start with ATATCCT and end with AG: 7.296607077708865e-05  =  (8/109640)\n",
      "Start with GTATCCT and end with AC: 0.0  =  (0/109640)\n",
      "Start with GTATCCT and end with AG: 0.001906238599051441  =  (209/109640)\n"
     ]
    },
    {
     "name": "stderr",
     "output_type": "stream",
     "text": [
      "100%|██████████| 248692/248692 [00:03<00:00, 76714.52it/s]\n",
      "  4%|▍         | 11059/248692 [00:00<00:02, 110584.57it/s]"
     ]
    },
    {
     "name": "stdout",
     "output_type": "stream",
     "text": [
      ">>> ONLY CONSIDERING 'Essential' GENES <<<\n",
      ">>> ONLY CONSIDERING FIRST INTRONS <<<\n",
      "Looked at 694923 base pairs from 164 introns belonging to 164 genes.\n",
      "--------------------------\n",
      "Start with AT      and end with AC: 0.0  =  (0/164)\n",
      "Start with ATATCCT and end with AC: 0.0  =  (0/164)\n",
      "Start with ATATCCT and end with AG: 0.0  =  (0/164)\n",
      "Start with GTATCCT and end with AC: 0.0  =  (0/164)\n",
      "Start with GTATCCT and end with AG: 0.0  =  (0/164)\n"
     ]
    },
    {
     "name": "stderr",
     "output_type": "stream",
     "text": [
      "100%|██████████| 248692/248692 [00:03<00:00, 76606.96it/s]\n",
      "  4%|▍         | 10831/248692 [00:00<00:02, 108309.07it/s]"
     ]
    },
    {
     "name": "stdout",
     "output_type": "stream",
     "text": [
      ">>> ONLY CONSIDERING 'Conditional' GENES <<<\n",
      ">>> ONLY CONSIDERING FIRST INTRONS <<<\n",
      "Looked at 79612840 base pairs from 6640 introns belonging to 6640 genes.\n",
      "--------------------------\n",
      "Start with AT      and end with AC: 0.00045180722891566266  =  (3/6640)\n",
      "Start with ATATCCT and end with AC: 0.00030120481927710846  =  (2/6640)\n",
      "Start with ATATCCT and end with AG: 0.0  =  (0/6640)\n",
      "Start with GTATCCT and end with AC: 0.0  =  (0/6640)\n",
      "Start with GTATCCT and end with AG: 0.00286144578313253  =  (19/6640)\n"
     ]
    },
    {
     "name": "stderr",
     "output_type": "stream",
     "text": [
      "100%|██████████| 248692/248692 [00:03<00:00, 75257.70it/s]"
     ]
    },
    {
     "name": "stdout",
     "output_type": "stream",
     "text": [
      ">>> ONLY CONSIDERING 'Nonessential' GENES <<<\n",
      ">>> ONLY CONSIDERING FIRST INTRONS <<<\n",
      "Looked at 175231813 base pairs from 12476 introns belonging to 12476 genes.\n",
      "--------------------------\n",
      "Start with AT      and end with AC: 0.0007213850593138826  =  (9/12476)\n",
      "Start with ATATCCT and end with AC: 0.0005610772683552421  =  (7/12476)\n",
      "Start with ATATCCT and end with AG: 0.0  =  (0/12476)\n",
      "Start with GTATCCT and end with AC: 0.0  =  (0/12476)\n",
      "Start with GTATCCT and end with AG: 0.0012824623276691247  =  (16/12476)\n"
     ]
    },
    {
     "name": "stderr",
     "output_type": "stream",
     "text": [
      "\n"
     ]
    }
   ],
   "source": [
    "results_start_end = {}\n",
    "results_start_end_first = {}\n",
    "for e in [\"Essential\", \"Conditional\", \"Nonessential\"]:\n",
    "    results_start_end[e] = calculate_start_end_freq(essential_filter=e, only_first_intron=False)\n",
    "\n",
    "results_first_intron = {}\n",
    "for e in [\"Essential\", \"Conditional\", \"Nonessential\"]:\n",
    "    results_start_end_first[e] = calculate_start_end_freq(essential_filter=e, only_first_intron=True)"
   ]
  },
  {
   "cell_type": "code",
   "execution_count": 112,
   "metadata": {},
   "outputs": [],
   "source": []
  },
  {
   "cell_type": "code",
   "execution_count": null,
   "metadata": {},
   "outputs": [],
   "source": []
  },
  {
   "cell_type": "code",
   "execution_count": null,
   "metadata": {},
   "outputs": [],
   "source": []
  },
  {
   "cell_type": "code",
   "execution_count": null,
   "metadata": {},
   "outputs": [],
   "source": []
  },
  {
   "cell_type": "code",
   "execution_count": null,
   "metadata": {},
   "outputs": [],
   "source": []
  }
 ],
 "metadata": {
  "kernelspec": {
   "display_name": "Python 3.5",
   "language": "python",
   "name": "python3"
  },
  "language_info": {
   "codemirror_mode": {
    "name": "ipython",
    "version": 3
   },
   "file_extension": ".py",
   "mimetype": "text/x-python",
   "name": "python",
   "nbconvert_exporter": "python",
   "pygments_lexer": "ipython3",
   "version": "3.5.6"
  }
 },
 "nbformat": 4,
 "nbformat_minor": 2
}
