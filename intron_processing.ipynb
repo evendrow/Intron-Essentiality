{
 "cells": [
  {
   "cell_type": "code",
   "execution_count": 28,
   "metadata": {},
   "outputs": [],
   "source": [
    "from tqdm import tqdm\n",
    "import numpy as np"
   ]
  },
  {
   "cell_type": "code",
   "execution_count": 57,
   "metadata": {},
   "outputs": [
    {
     "name": "stderr",
     "output_type": "stream",
     "text": [
      "100%|██████████| 153670579/153670579 [03:15<00:00, 785090.51it/s]"
     ]
    },
    {
     "name": "stdout",
     "output_type": "stream",
     "text": [
      "Done processing. Found 249606 gene transcripts.\n"
     ]
    },
    {
     "name": "stderr",
     "output_type": "stream",
     "text": [
      "\n"
     ]
    }
   ],
   "source": [
    "# name of file exported from ensembl\n",
    "FILE_NAME = \"mart_export.txt\"\n",
    "file = open(FILE_NAME, \"r\")\n",
    "\n",
    "lines_to_read = 1000000\n",
    "all_introns = []\n",
    "curr_intron = []\n",
    "\n",
    "last_intron = ''\n",
    "\n",
    "# count number of lines for tqdm\n",
    "num_lines = sum(1 for line in open(FILE_NAME,'r'))\n",
    "\n",
    "for i in tqdm(range(num_lines)):\n",
    "    \n",
    "    line = file.readline()\n",
    "    if line[0] == '>': # new gene\n",
    "        \n",
    "        # put last intron sequence into previous gene\n",
    "        if len(last_intron) != 0:#len(last_intron) == tr_size:\n",
    "            curr_intron[-1] = last_intron\n",
    "            all_introns.append(curr_intron)\n",
    "            \n",
    "        last_intron = ''\n",
    "        \n",
    "        l = line[1:-1].split('|') # remove '>'\n",
    "        \n",
    "        # get gene and transcript information\n",
    "        gene_id, gene_id_version, transcript_id = l[0], l[1], l[3]\n",
    "        tr_start, tr_end = int(l[6]), int(l[7])\n",
    "        strand, tr_size = int(l[10]), int(l[11])\n",
    "\n",
    "        # take and order exons\n",
    "        exon_starts = [int(bp) for bp in l[8].split(';')]\n",
    "        exon_ends = [int(bp) for bp in l[9].split(';')]\n",
    "        order = np.argsort(exon_starts)\n",
    "        exon_starts = np.take(exon_starts, order)\n",
    "        exon_ends = np.take(exon_ends, order)\n",
    "        \n",
    "        curr_intron = [gene_id, gene_id_version, transcript_id, tr_start,\n",
    "                      tr_end, strand, tr_size, exon_starts, exon_ends, '']\n",
    "        \n",
    "        \n",
    "    else:\n",
    "        last_intron += line[:-1]\n",
    "\n",
    "# do last one manually\n",
    "curr_intron[-1] = last_intron\n",
    "all_introns.append(curr_intron)\n",
    "        \n",
    "print('Done processing. Found', len(all_introns), 'gene transcripts.')\n",
    "        "
   ]
  },
  {
   "cell_type": "code",
   "execution_count": 63,
   "metadata": {},
   "outputs": [],
   "source": [
    "all_genes = list(set([t[0] for t in all_introns]))"
   ]
  },
  {
   "cell_type": "code",
   "execution_count": 70,
   "metadata": {},
   "outputs": [
    {
     "name": "stderr",
     "output_type": "stream",
     "text": [
      "\n",
      "  0%|          | 0/249606 [00:00<?, ?it/s]\u001b[A\n",
      "  3%|▎         | 7247/249606 [00:00<00:08, 29591.33it/s]\u001b[A\n",
      "  7%|▋         | 16460/249606 [00:00<00:06, 37126.95it/s]\u001b[A\n",
      " 11%|█         | 26542/249606 [00:00<00:04, 45808.82it/s]\u001b[A\n",
      " 14%|█▍        | 34518/249606 [00:00<00:04, 52514.77it/s]\u001b[A\n",
      " 17%|█▋        | 42745/249606 [00:00<00:03, 58768.20it/s]\u001b[A\n",
      " 20%|██        | 50143/249606 [00:00<00:03, 62623.91it/s]\u001b[A\n",
      " 23%|██▎       | 57089/249606 [00:00<00:03, 62536.67it/s]\u001b[A\n",
      " 26%|██▋       | 65807/249606 [00:00<00:02, 68281.18it/s]\u001b[A\n",
      " 30%|███       | 75063/249606 [00:01<00:02, 74039.80it/s]\u001b[A\n",
      " 33%|███▎      | 83441/249606 [00:01<00:02, 76667.03it/s]\u001b[A\n",
      " 37%|███▋      | 92726/249606 [00:01<00:01, 80810.93it/s]\u001b[A\n",
      " 41%|████      | 101380/249606 [00:01<00:01, 82395.19it/s]\u001b[A\n",
      " 44%|████▍     | 109847/249606 [00:01<00:01, 81997.97it/s]\u001b[A\n",
      " 47%|████▋     | 118207/249606 [00:01<00:01, 81277.29it/s]\u001b[A\n",
      " 51%|█████     | 127851/249606 [00:01<00:01, 85119.99it/s]\u001b[A\n",
      " 55%|█████▍    | 136670/249606 [00:01<00:01, 86018.04it/s]\u001b[A\n",
      " 58%|█████▊    | 145924/249606 [00:01<00:01, 87721.37it/s]\u001b[A\n",
      " 63%|██████▎   | 158047/249606 [00:01<00:00, 95507.52it/s]\u001b[A\n",
      " 67%|██████▋   | 167852/249606 [00:02<00:00, 94161.21it/s]\u001b[A\n",
      " 71%|███████▏  | 178292/249606 [00:02<00:00, 96999.43it/s]\u001b[A\n",
      " 76%|███████▌  | 189855/249606 [00:02<00:00, 101760.19it/s]\u001b[A\n",
      " 81%|████████  | 201217/249606 [00:02<00:00, 104930.43it/s]\u001b[A\n",
      " 85%|████████▍ | 211851/249606 [00:02<00:00, 103908.99it/s]\u001b[A\n",
      " 89%|████████▉ | 222343/249606 [00:02<00:00, 93406.28it/s] \u001b[A\n",
      " 93%|█████████▎| 231955/249606 [00:02<00:00, 89316.01it/s]\u001b[A\n",
      "100%|██████████| 249606/249606 [00:02<00:00, 84543.23it/s]\u001b[A\n"
     ]
    }
   ],
   "source": [
    "# We want to find the best transcript for each gene, since each one\n",
    "# has multiple transcripts. we choose the best one by its exon size\n",
    "best_transcripts = {}\n",
    "for i in tqdm(range(len(all_introns)), position=0, leave=True):\n",
    "    intron = all_introns[i]\n",
    "    gene = intron[0]\n",
    "    tr_size = intron[6]\n",
    "    if gene in best_transcripts:\n",
    "        if tr_size > best_transcripts[gene][0]:\n",
    "            best_transcripts[gene] = (tr_size, intron)\n",
    "    else:\n",
    "        best_transcripts[gene] = (tr_size, intron)"
   ]
  },
  {
   "cell_type": "code",
   "execution_count": 71,
   "metadata": {},
   "outputs": [
    {
     "data": {
      "text/plain": [
       "67140"
      ]
     },
     "execution_count": 71,
     "metadata": {},
     "output_type": "execute_result"
    }
   ],
   "source": [
    "# number of unique genes\n",
    "len(best_transcripts)"
   ]
  },
  {
   "cell_type": "code",
   "execution_count": 227,
   "metadata": {},
   "outputs": [
    {
     "data": {
      "text/plain": [
       "['ENSG00000147642',\n",
       " 'ENSG00000147642.17',\n",
       " 'ENST00000399066.7',\n",
       " 109574182,\n",
       " 109643675,\n",
       " -1,\n",
       " 3435,\n",
       " array([109574182, 109577868, 109579799, 109586060, 109618842, 109642728]),\n",
       " array([109576013, 109578017, 109580002, 109586162, 109619039, 109643675])]"
      ]
     },
     "execution_count": 227,
     "metadata": {},
     "output_type": "execute_result"
    }
   ],
   "source": [
    "# Sanity check\n",
    "best_transcripts['ENSG00000147642'][1][:-1]"
   ]
  },
  {
   "cell_type": "code",
   "execution_count": 75,
   "metadata": {},
   "outputs": [],
   "source": [
    "#free unused space\n",
    "del all_introns"
   ]
  },
  {
   "cell_type": "code",
   "execution_count": 173,
   "metadata": {},
   "outputs": [],
   "source": [
    "gene_data = [v for k, v in best_transcripts.values()]"
   ]
  },
  {
   "cell_type": "code",
   "execution_count": 228,
   "metadata": {},
   "outputs": [],
   "source": [
    "# Now we gotta calculate introns\n",
    "\n",
    "\n",
    "def get_introns(gene):\n",
    "    # First, we figure out the start and end indexes \n",
    "    x = gene #best_transcripts['ENSG00000147642'][1]#exons[0]\n",
    "    tr_start = x[3]\n",
    "    tr_end = x[4]\n",
    "    direction = x[5]\n",
    "    ex_starts = x[7]\n",
    "    ex_ends = x[8]\n",
    "    transcript = x[9]\n",
    "\n",
    "    ex_starts = ex_starts - tr_start\n",
    "    ex_ends = ex_ends - tr_start\n",
    "    tr_end = tr_end - tr_start\n",
    "    tr_start = 0\n",
    "    \n",
    "#     print(ex_starts)\n",
    "#     print(ex_ends)\n",
    "\n",
    "    if direction == -1:\n",
    "#         print('flipped')\n",
    "        ex_starts = np.flip(tr_end - ex_starts)\n",
    "        ex_ends = np.flip(tr_end - ex_ends)\n",
    "        tmp = ex_ends\n",
    "        ex_ends = ex_starts\n",
    "        ex_starts = tmp\n",
    "\n",
    "    in_starts = ex_ends[:-1]+1\n",
    "    in_ends = ex_starts[1:]\n",
    "    \n",
    "#     print(in_starts)\n",
    "#     print(in_ends)\n",
    "\n",
    "    introns = []\n",
    "\n",
    "    for i in range(len(in_starts)):\n",
    "        intron = transcript[in_starts[i]:in_ends[i]]\n",
    "#         print(intron)\n",
    "        introns.append(intron)\n",
    "        \n",
    "    return introns\n",
    "    \n",
    "    "
   ]
  },
  {
   "cell_type": "code",
   "execution_count": 217,
   "metadata": {},
   "outputs": [
    {
     "name": "stderr",
     "output_type": "stream",
     "text": [
      "100%|██████████| 67140/67140 [00:20<00:00, 3206.61it/s] \n"
     ]
    }
   ],
   "source": [
    "with open('introns.csv', 'w') as f:\n",
    "    for i in tqdm(range(len(gene_data)), position=0, leave=True):\n",
    "        gene = gene_data[i]\n",
    "        introns = get_introns(gene)\n",
    "        for i, intron in enumerate(introns):\n",
    "            # gene, transcript, transcript bp, intron #, \n",
    "            f.write(gene[0] + ',' + gene[2] + ',' + str(gene[6]) + ','\n",
    "                    + str(i+1) + ',' + intron + '\\n')"
   ]
  },
  {
   "cell_type": "code",
   "execution_count": 230,
   "metadata": {},
   "outputs": [],
   "source": [
    "# Sanity check\n",
    "# q = open('introns.csv', 'r')\n",
    "# for i in range(6):\n",
    "#     print(q.readline())"
   ]
  },
  {
   "cell_type": "code",
   "execution_count": null,
   "metadata": {},
   "outputs": [],
   "source": []
  },
  {
   "cell_type": "code",
   "execution_count": null,
   "metadata": {},
   "outputs": [],
   "source": []
  }
 ],
 "metadata": {
  "kernelspec": {
   "display_name": "Python 3.5",
   "language": "python",
   "name": "python3"
  },
  "language_info": {
   "codemirror_mode": {
    "name": "ipython",
    "version": 3
   },
   "file_extension": ".py",
   "mimetype": "text/x-python",
   "name": "python",
   "nbconvert_exporter": "python",
   "pygments_lexer": "ipython3",
   "version": "3.5.6"
  }
 },
 "nbformat": 4,
 "nbformat_minor": 2
}
